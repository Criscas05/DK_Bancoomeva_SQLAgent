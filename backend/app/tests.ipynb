{
 "cells": [
  {
   "cell_type": "code",
   "execution_count": 1,
   "id": "6d136b57",
   "metadata": {},
   "outputs": [
    {
     "name": "stdout",
     "output_type": "stream",
     "text": [
      "Servicio de Databricks inicializado.\n",
      "Servicio de Azure AI Search inicializado.\n",
      "Servicio de Cosmos DB inicializado.\n",
      "Servicio de Azure Storage inicializado.\n"
     ]
    }
   ],
   "source": [
    "from langchain_core.messages import AIMessage, HumanMessage, ToolMessage\n",
    "import json\n",
    "import re\n",
    "import os\n",
    "import sys\n",
    "import uuid\n",
    "from langchain_core.tools import tool\n",
    "# from langchain_core.pydantic_v1 import BaseModel, Field\n",
    "\n",
    "notebook_dir = os.getcwd()\n",
    "parent_dir = os.path.abspath(os.path.join(notebook_dir, '..'))\n",
    "sys.path.append(parent_dir)\n",
    "\n",
    "from app.services.databricks_service import DatabricksService\n",
    "from app.services.azure_search_service import AzureSearchService\n",
    "from app.services.azure_storage_service import AzureStorageService\n",
    "from app.services.cosmos_db_service import CosmosDBService # Importamos el servicio de Cosmos\n",
    "import asyncio\n",
    "\n",
    "# Instanciamos los servicios una vez para reutilizar la configuración.\n",
    "databricks_service = DatabricksService()\n",
    "azure_search_service = AzureSearchService()\n",
    "cosmos_db_service = CosmosDBService() # Instanciamos Cosmos\n",
    "storage_service = AzureStorageService()"
   ]
  },
  {
   "cell_type": "markdown",
   "id": "98c6cbbb",
   "metadata": {},
   "source": [
    "# Pruebas de Databricks Services"
   ]
  },
  {
   "cell_type": "code",
   "execution_count": 7,
   "id": "b5d7891b",
   "metadata": {},
   "outputs": [
    {
     "name": "stdout",
     "output_type": "stream",
     "text": [
      "--- Ejecutando consulta en Databricks: \n",
      "SELECT  Count(*),\n",
      "  CIIU,\n",
      "  STRCIIU\n",
      "FROM `ia-foundation`.pilotos.ods_cliente\n",
      "GROUP BY CIIU, STRCIIU\n",
      "ORDER BY Count(*) DESC\n",
      "LIMIT 5\n",
      "... ---\n"
     ]
    },
    {
     "data": {
      "text/plain": [
       "5"
      ]
     },
     "execution_count": 7,
     "metadata": {},
     "output_type": "execute_result"
    }
   ],
   "source": [
    "def sync_executor(query):\n",
    "    return databricks_service.execute_query(query)\n",
    "\n",
    "query = \"\"\"\n",
    "SELECT  Count(*),\n",
    "  CIIU,\n",
    "  STRCIIU\n",
    "FROM `ia-foundation`.pilotos.ods_cliente\n",
    "GROUP BY CIIU, STRCIIU\n",
    "ORDER BY Count(*) DESC\n",
    "LIMIT 5\n",
    "\"\"\"\n",
    "# 1. Ejecutar la consulta para obtener el resultado completo\n",
    "full_result_data = await asyncio.to_thread(sync_executor, query)\n",
    "len(full_result_data[\"rows\"])\n"
   ]
  },
  {
   "cell_type": "code",
   "execution_count": null,
   "id": "5b6b5c20",
   "metadata": {},
   "outputs": [],
   "source": [
    "import pandas as pd\n",
    "df = pd.DataFrame(full_result_data[\"rows\"], columns=full_result_data[\"columns\"])\n",
    "df"
   ]
  },
  {
   "cell_type": "code",
   "execution_count": 9,
   "id": "e42eed8a",
   "metadata": {},
   "outputs": [
    {
     "name": "stdout",
     "output_type": "stream",
     "text": [
      "Archivo CSV 'mamaomiaaa-meossafe.csv' subido exitosamente a Azure Storage.\n",
      "Resultado para message_id 'meossafe' guardado en Cosmos DB.\n"
     ]
    }
   ],
   "source": [
    "import pandas as pd\n",
    "# 2. Convertir a DataFrame de Pandas\n",
    "df = pd.DataFrame(full_result_data[\"rows\"], columns=full_result_data[\"columns\"])\n",
    "\n",
    "# 3. Subir el CSV COMPLETO a Azure Blob Storage\n",
    "blob_name = f\"mamaomiaaa-meossafe.csv\"\n",
    "download_url = await storage_service.upload_query_results(df, blob_name)\n",
    "await cosmos_db_service.save_query_result(\"mamoamiaaa\", \"meossafe\", full_result_data)"
   ]
  },
  {
   "cell_type": "code",
   "execution_count": null,
   "id": "96069eaa",
   "metadata": {},
   "outputs": [],
   "source": [
    "json_str = json.dumps(results[\"rows\"][0:30000], default=str)\n",
    "\n",
    "size_bytes = len(json_str.encode('utf-8'))\n",
    "\n",
    "size_kb = size_bytes / 1024\n",
    "size_mb = size_kb / 1024\n",
    "\n",
    "print(f\"Tamaño del JSON: {size_bytes} bytes / {size_kb:.2f} KB / {size_mb:.2f} MB\")"
   ]
  },
  {
   "cell_type": "code",
   "execution_count": 27,
   "id": "aa6092aa",
   "metadata": {},
   "outputs": [
    {
     "name": "stdout",
     "output_type": "stream",
     "text": [
      "Resultado para message_id 'message_id_A' guardado en Cosmos DB.\n"
     ]
    }
   ],
   "source": [
    "session_id = \"session_id_A\"\n",
    "message_id = \"message_id_A\"\n",
    "await cosmos_db_service.save_query_result(session_id, message_id, results[\"rows\"][0:30000])"
   ]
  },
  {
   "cell_type": "markdown",
   "id": "7f8d9455",
   "metadata": {},
   "source": [
    "# Pruebas de Azure AI Search"
   ]
  },
  {
   "cell_type": "code",
   "execution_count": null,
   "id": "3992b459",
   "metadata": {},
   "outputs": [],
   "source": [
    "import sys\n",
    "import os\n",
    "notebook_dir = os.getcwd()\n",
    "parent_dir = os.path.abspath(os.path.join(notebook_dir, '..'))\n",
    "sys.path.append(parent_dir)\n",
    "\n",
    "from app.services.azure_search_service import AzureSearchService\n",
    "from utils.az_ai_search import AzureIASearch\n",
    "\n",
    "azure_search_service = AzureSearchService()\n",
    "azure_search_utils = AzureIASearch()\n",
    "\n",
    "\n",
    "user_query = \"¿Cuáles son los clientes que se encuentran asociados a la cooperativa coomeva?\"\n",
    "result = await azure_search_service.search_similar_queries(user_query, top_k=10)\n",
    "# result2 = azure_search_utils.hybrid_search(user_query, index_name=\"index_sqlagent\", top_k=3)\n",
    "\n",
    "for a in result:\n",
    "    print(a)"
   ]
  },
  {
   "cell_type": "code",
   "execution_count": null,
   "id": "e9a4eaee",
   "metadata": {},
   "outputs": [],
   "source": [
    "result[:3]"
   ]
  },
  {
   "cell_type": "markdown",
   "id": "4eae7a04",
   "metadata": {},
   "source": [
    "# Pruebas CosmosDB"
   ]
  },
  {
   "cell_type": "code",
   "execution_count": 33,
   "id": "a482dc01",
   "metadata": {},
   "outputs": [
    {
     "name": "stdout",
     "output_type": "stream",
     "text": [
      "Servicio de Cosmos DB inicializado.\n",
      "Base de datos 'db_agentesql' encontrada.\n",
      "Contenedor 'historialconversaciones' listo.\n",
      "Historial recuperado para la sesión 052f6517-bd92-472d-afa6-a073f51d952b: 20 mensajes.\n"
     ]
    }
   ],
   "source": [
    "cosmos_service = CosmosDBService()\n",
    "CONVERSATION_HISTORY_WINDOW = 20\n",
    "session_id = \"052f6517-bd92-472d-afa6-a073f51d952b\"\n",
    "conversation_history = await cosmos_service.get_conversation_history(\n",
    "            session_id,\n",
    "            limit=CONVERSATION_HISTORY_WINDOW\n",
    "        )"
   ]
  },
  {
   "cell_type": "code",
   "execution_count": null,
   "id": "517a6fb1",
   "metadata": {},
   "outputs": [],
   "source": [
    "def _sanitize_history_for_api(history: list) -> list:\n",
    "    \"\"\"\n",
    "    Elimina cualquier 'ToolMessage' huérfano del principio del historial\n",
    "    para asegurar una secuencia de conversación válida para la API de OpenAI.\n",
    "    \"\"\"\n",
    "    sanitized_history = list(history)\n",
    "    # Mientras el historial no esté vacío y el primer mensaje sea un ToolMessage...\n",
    "    while sanitized_history and isinstance(sanitized_history[0], ToolMessage):\n",
    "        # Lo eliminamos, porque su AIMessage correspondiente fue cortado por la ventana.\n",
    "        sanitized_history.pop(0)\n",
    "    return sanitized_history\n",
    "sanitized_history = _sanitize_history_for_api(conversation_history)\n",
    "messages_for_agent = list(sanitized_history)\n",
    "\n",
    "messages_for_agent.append(HumanMessage(content='Call tool \"foo\" twice with no arguments'))\n",
    "\n",
    "messages_for_agent"
   ]
  },
  {
   "cell_type": "code",
   "execution_count": 22,
   "id": "2525b551",
   "metadata": {},
   "outputs": [
    {
     "data": {
      "text/plain": [
       "20"
      ]
     },
     "execution_count": 22,
     "metadata": {},
     "output_type": "execute_result"
    }
   ],
   "source": [
    "len(messages_for_agent)"
   ]
  },
  {
   "cell_type": "code",
   "execution_count": 20,
   "id": "f4e8d2f7",
   "metadata": {},
   "outputs": [
    {
     "data": {
      "text/plain": [
       "[HumanMessage(content='Call tool \"foo\" twice with no arguments', additional_kwargs={}, response_metadata={})]"
      ]
     },
     "execution_count": 20,
     "metadata": {},
     "output_type": "execute_result"
    }
   ],
   "source": [
    "messages_for_agent[len(sanitized_history):]"
   ]
  },
  {
   "cell_type": "code",
   "execution_count": null,
   "id": "dac55c00",
   "metadata": {},
   "outputs": [
    {
     "data": {
      "text/plain": [
       "[]"
      ]
     },
     "execution_count": 16,
     "metadata": {},
     "output_type": "execute_result"
    }
   ],
   "source": [
    "full_turn_messages = messages_for_agent[len(sanitized_history):] #+ agent_response.get(\"messages\", [])[len(messages_for_agent):]\n",
    "full_turn_messages"
   ]
  }
 ],
 "metadata": {
  "kernelspec": {
   "display_name": "env_general",
   "language": "python",
   "name": "python3"
  },
  "language_info": {
   "codemirror_mode": {
    "name": "ipython",
    "version": 3
   },
   "file_extension": ".py",
   "mimetype": "text/x-python",
   "name": "python",
   "nbconvert_exporter": "python",
   "pygments_lexer": "ipython3",
   "version": "3.11.11"
  }
 },
 "nbformat": 4,
 "nbformat_minor": 5
}
